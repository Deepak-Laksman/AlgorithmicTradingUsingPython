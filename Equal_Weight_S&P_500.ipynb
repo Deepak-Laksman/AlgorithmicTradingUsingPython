{
 "cells": [
  {
   "cell_type": "code",
   "execution_count": 1,
   "id": "cf17bb11",
   "metadata": {},
   "outputs": [],
   "source": [
    "# We are going to implement Eqaul Weight S&P 500 stocks\n",
    "import numpy as np\n",
    "import pandas as pd\n",
    "import requests\n",
    "import xlsxwriter\n",
    "import math\n"
   ]
  },
  {
   "cell_type": "code",
   "execution_count": 2,
   "id": "302915e2",
   "metadata": {},
   "outputs": [
    {
     "data": {
      "text/html": [
       "<div>\n",
       "<style scoped>\n",
       "    .dataframe tbody tr th:only-of-type {\n",
       "        vertical-align: middle;\n",
       "    }\n",
       "\n",
       "    .dataframe tbody tr th {\n",
       "        vertical-align: top;\n",
       "    }\n",
       "\n",
       "    .dataframe thead th {\n",
       "        text-align: right;\n",
       "    }\n",
       "</style>\n",
       "<table border=\"1\" class=\"dataframe\">\n",
       "  <thead>\n",
       "    <tr style=\"text-align: right;\">\n",
       "      <th></th>\n",
       "      <th>Ticker</th>\n",
       "    </tr>\n",
       "  </thead>\n",
       "  <tbody>\n",
       "    <tr>\n",
       "      <th>0</th>\n",
       "      <td>A</td>\n",
       "    </tr>\n",
       "    <tr>\n",
       "      <th>1</th>\n",
       "      <td>AAL</td>\n",
       "    </tr>\n",
       "    <tr>\n",
       "      <th>2</th>\n",
       "      <td>AAP</td>\n",
       "    </tr>\n",
       "    <tr>\n",
       "      <th>3</th>\n",
       "      <td>AAPL</td>\n",
       "    </tr>\n",
       "    <tr>\n",
       "      <th>4</th>\n",
       "      <td>ABBV</td>\n",
       "    </tr>\n",
       "  </tbody>\n",
       "</table>\n",
       "</div>"
      ],
      "text/plain": [
       "  Ticker\n",
       "0      A\n",
       "1    AAL\n",
       "2    AAP\n",
       "3   AAPL\n",
       "4   ABBV"
      ]
     },
     "execution_count": 2,
     "metadata": {},
     "output_type": "execute_result"
    }
   ],
   "source": [
    "stocks = pd.read_csv('sp_500_stocks.csv')\n",
    "stocks.head()"
   ]
  },
  {
   "cell_type": "code",
   "execution_count": 3,
   "id": "155647c7",
   "metadata": {},
   "outputs": [],
   "source": [
    "# Used to get the details about the stocks in our dataset\n",
    "from secret import IEX_CLOUD_API_TOKEN"
   ]
  },
  {
   "cell_type": "code",
   "execution_count": 4,
   "id": "4c883002",
   "metadata": {},
   "outputs": [
    {
     "data": {
      "text/plain": [
       "dict"
      ]
     },
     "execution_count": 4,
     "metadata": {},
     "output_type": "execute_result"
    }
   ],
   "source": [
    "# Tryign to fetch data for one stock\n",
    "symbol = 'AAPL'\n",
    "api_url = f'https://sandbox.iexapis.com/stable/stock/{symbol}/quote/?token={IEX_CLOUD_API_TOKEN}'\n",
    "data = requests.get(api_url).json()\n",
    "data"
   ]
  },
  {
   "cell_type": "code",
   "execution_count": 5,
   "id": "2c6bf579",
   "metadata": {},
   "outputs": [
    {
     "name": "stdout",
     "output_type": "stream",
     "text": [
      "149.41 2.411248349479\n"
     ]
    }
   ],
   "source": [
    "price = data['latestPrice']\n",
    "market_cap = data['marketCap']\n",
    "print(price, market_cap / 1000000000000)"
   ]
  },
  {
   "cell_type": "code",
   "execution_count": 6,
   "id": "df7bf0f9",
   "metadata": {},
   "outputs": [
    {
     "data": {
      "text/html": [
       "<div>\n",
       "<style scoped>\n",
       "    .dataframe tbody tr th:only-of-type {\n",
       "        vertical-align: middle;\n",
       "    }\n",
       "\n",
       "    .dataframe tbody tr th {\n",
       "        vertical-align: top;\n",
       "    }\n",
       "\n",
       "    .dataframe thead th {\n",
       "        text-align: right;\n",
       "    }\n",
       "</style>\n",
       "<table border=\"1\" class=\"dataframe\">\n",
       "  <thead>\n",
       "    <tr style=\"text-align: right;\">\n",
       "      <th></th>\n",
       "      <th>Ticker</th>\n",
       "      <th>Stock Price</th>\n",
       "      <th>Market Capitalization</th>\n",
       "      <th>Number of Shares to Buy</th>\n",
       "    </tr>\n",
       "  </thead>\n",
       "  <tbody>\n",
       "  </tbody>\n",
       "</table>\n",
       "</div>"
      ],
      "text/plain": [
       "Empty DataFrame\n",
       "Columns: [Ticker, Stock Price, Market Capitalization, Number of Shares to Buy]\n",
       "Index: []"
      ]
     },
     "execution_count": 6,
     "metadata": {},
     "output_type": "execute_result"
    }
   ],
   "source": [
    "# These are the columns that will be in our final excel sheet\n",
    "chosen_columns = ['Ticker', 'Stock Price', 'Market Capitalization', 'Number of Shares to Buy']\n",
    "final_dataframe = pd.DataFrame(columns = chosen_columns)\n",
    "final_dataframe"
   ]
  },
  {
   "cell_type": "code",
   "execution_count": 7,
   "id": "fd701f5d",
   "metadata": {},
   "outputs": [
    {
     "data": {
      "text/plain": [
       "\"\\narr = []\\nsample_df = pd.DataFrame(columns = chosen_columns)\\nfor stock in stocks['Ticker']:\\n    api_url = f'https://sandbox.iexapis.com/stable/stock/{stock}/quote/?token={IEX_CLOUD_API_TOKEN}'\\n    data = requests.get(api_url).json()\\n    price = data['latestPrice']\\n    market_cap = data['marketCap']\\n    temp_df = pd.DataFrame({'Ticker': [stock], 'Stock Price': [price], 'Market Capitalization': [market_cap], 'Number of Shares to Buy': ['N/A'] })\\n    final_dataframe = pd.concat([final_dataframe, temp_df], ignore_index = True)\\nfinal_dataframe\\n\""
      ]
     },
     "execution_count": 7,
     "metadata": {},
     "output_type": "execute_result"
    }
   ],
   "source": [
    "# This code is SLOW as it makes an api call for every stock\n",
    "# sample_df = pd.DataFrame(columns = chosen_columns)\n",
    "# for stock in stocks['Ticker']:\n",
    "#    api_url = f'https://sandbox.iexapis.com/stable/stock/{stock}/quote/?token={IEX_CLOUD_API_TOKEN}'\n",
    "#    data = requests.get(api_url).json()\n",
    "#    price = data['latestPrice']\n",
    "#    market_cap = data['marketCap']\n",
    "#    temp_df = pd.DataFrame({'Ticker': [stock], 'Stock Price': [price], 'Market Capitalization': [market_cap], 'Number of Shares to Buy': ['N/A'] })\n",
    "#    final_dataframe = pd.concat([final_dataframe, temp_df], ignore_index = True)\n"
   ]
  },
  {
   "cell_type": "code",
   "execution_count": 8,
   "id": "64186224",
   "metadata": {},
   "outputs": [],
   "source": [
    "# Function to return set of n values from a list\n",
    "def chunks(lst, n):\n",
    "    for i in range(0, len(lst), n):\n",
    "        yield lst[i: i + n]"
   ]
  },
  {
   "cell_type": "code",
   "execution_count": 9,
   "id": "c36b5796",
   "metadata": {},
   "outputs": [
    {
     "data": {
      "text/html": [
       "<div>\n",
       "<style scoped>\n",
       "    .dataframe tbody tr th:only-of-type {\n",
       "        vertical-align: middle;\n",
       "    }\n",
       "\n",
       "    .dataframe tbody tr th {\n",
       "        vertical-align: top;\n",
       "    }\n",
       "\n",
       "    .dataframe thead th {\n",
       "        text-align: right;\n",
       "    }\n",
       "</style>\n",
       "<table border=\"1\" class=\"dataframe\">\n",
       "  <thead>\n",
       "    <tr style=\"text-align: right;\">\n",
       "      <th></th>\n",
       "      <th>Ticker</th>\n",
       "      <th>Stock Price</th>\n",
       "      <th>Market Capitalization</th>\n",
       "      <th>Number of Shares to Buy</th>\n",
       "    </tr>\n",
       "  </thead>\n",
       "  <tbody>\n",
       "    <tr>\n",
       "      <th>0</th>\n",
       "      <td>A</td>\n",
       "      <td>155.520</td>\n",
       "      <td>46977633889</td>\n",
       "      <td>N/A</td>\n",
       "    </tr>\n",
       "    <tr>\n",
       "      <th>1</th>\n",
       "      <td>AAL</td>\n",
       "      <td>13.840</td>\n",
       "      <td>9174153030</td>\n",
       "      <td>N/A</td>\n",
       "    </tr>\n",
       "    <tr>\n",
       "      <th>2</th>\n",
       "      <td>AAP</td>\n",
       "      <td>154.510</td>\n",
       "      <td>8940921881</td>\n",
       "      <td>N/A</td>\n",
       "    </tr>\n",
       "    <tr>\n",
       "      <th>3</th>\n",
       "      <td>AAPL</td>\n",
       "      <td>150.824</td>\n",
       "      <td>2430946743873</td>\n",
       "      <td>N/A</td>\n",
       "    </tr>\n",
       "    <tr>\n",
       "      <th>4</th>\n",
       "      <td>ABBV</td>\n",
       "      <td>164.730</td>\n",
       "      <td>291336514725</td>\n",
       "      <td>N/A</td>\n",
       "    </tr>\n",
       "    <tr>\n",
       "      <th>...</th>\n",
       "      <td>...</td>\n",
       "      <td>...</td>\n",
       "      <td>...</td>\n",
       "      <td>...</td>\n",
       "    </tr>\n",
       "    <tr>\n",
       "      <th>496</th>\n",
       "      <td>YUM</td>\n",
       "      <td>129.990</td>\n",
       "      <td>37554238828</td>\n",
       "      <td>N/A</td>\n",
       "    </tr>\n",
       "    <tr>\n",
       "      <th>497</th>\n",
       "      <td>ZBH</td>\n",
       "      <td>125.382</td>\n",
       "      <td>26306019856</td>\n",
       "      <td>N/A</td>\n",
       "    </tr>\n",
       "    <tr>\n",
       "      <th>498</th>\n",
       "      <td>ZBRA</td>\n",
       "      <td>280.500</td>\n",
       "      <td>14442002248</td>\n",
       "      <td>N/A</td>\n",
       "    </tr>\n",
       "    <tr>\n",
       "      <th>499</th>\n",
       "      <td>ZION</td>\n",
       "      <td>53.150</td>\n",
       "      <td>7996810327</td>\n",
       "      <td>N/A</td>\n",
       "    </tr>\n",
       "    <tr>\n",
       "      <th>500</th>\n",
       "      <td>ZTS</td>\n",
       "      <td>160.270</td>\n",
       "      <td>75706910900</td>\n",
       "      <td>N/A</td>\n",
       "    </tr>\n",
       "  </tbody>\n",
       "</table>\n",
       "<p>501 rows × 4 columns</p>\n",
       "</div>"
      ],
      "text/plain": [
       "    Ticker  Stock Price Market Capitalization Number of Shares to Buy\n",
       "0        A      155.520           46977633889                     N/A\n",
       "1      AAL       13.840            9174153030                     N/A\n",
       "2      AAP      154.510            8940921881                     N/A\n",
       "3     AAPL      150.824         2430946743873                     N/A\n",
       "4     ABBV      164.730          291336514725                     N/A\n",
       "..     ...          ...                   ...                     ...\n",
       "496    YUM      129.990           37554238828                     N/A\n",
       "497    ZBH      125.382           26306019856                     N/A\n",
       "498   ZBRA      280.500           14442002248                     N/A\n",
       "499   ZION       53.150            7996810327                     N/A\n",
       "500    ZTS      160.270           75706910900                     N/A\n",
       "\n",
       "[501 rows x 4 columns]"
      ]
     },
     "execution_count": 9,
     "metadata": {},
     "output_type": "execute_result"
    }
   ],
   "source": [
    "# A 2D array with each 1D array storing 100 stocks\n",
    "stock_groups = list(chunks(stocks['Ticker'], 100))\n",
    "# Converting these groups into comma separated string to usse it in our new api call\n",
    "stock_strings = []\n",
    "for i in range(len(stock_groups)):\n",
    "    stock_strings.append(\",\".join(stock_groups[i]))\n",
    "final_df = pd.DataFrame(columns= chosen_columns)\n",
    "# Using batch api to make 1 call for 100 stocks which is 100x faster than the previous method\n",
    "for stock_string in stock_strings:\n",
    "    batch_api_call_url = f'https://sandbox.iexapis.com/stable/stock/market/batch?symbols={stock_string}&types=quote&token={IEX_CLOUD_API_TOKEN}'\n",
    "    data = requests.get(batch_api_call_url).json()\n",
    "    for stock in stock_string.split(','):\n",
    "        # if stock not in received data\n",
    "        if stock not in data:\n",
    "            continue\n",
    "        # making temporary data frame to store the current stock\n",
    "        temp_df = pd.DataFrame({'Ticker': [stock], 'Stock Price': [data[stock]['quote']['latestPrice']], 'Market Capitalization': [data[stock]['quote']['marketCap']], 'Number of Shares to Buy': ['N/A']})\n",
    "        # concatenating and storing it in our main data frame\n",
    "        final_df = pd.concat([final_df, temp_df], ignore_index = True)\n",
    "final_df"
   ]
  },
  {
   "cell_type": "code",
   "execution_count": 10,
   "id": "797dad89",
   "metadata": {},
   "outputs": [
    {
     "name": "stdout",
     "output_type": "stream",
     "text": [
      "Enter the total value of your portfolio: 10000000\n"
     ]
    }
   ],
   "source": [
    "# amount of money the trader has\n",
    "portfolio_size = input('Enter the total value of your portfolio: ')\n",
    "val = 0\n",
    "# checking for value error\n",
    "try:\n",
    "    val = float(portfolio_size)\n",
    "except ValueError:\n",
    "    print(\"That is not a number \\n\")\n",
    "    portfolio_size = input('Enter the total value of your portfolio: ')\n",
    "    val = float(portfolio_size)"
   ]
  },
  {
   "cell_type": "code",
   "execution_count": 11,
   "id": "abd4f103",
   "metadata": {},
   "outputs": [
    {
     "data": {
      "text/html": [
       "<div>\n",
       "<style scoped>\n",
       "    .dataframe tbody tr th:only-of-type {\n",
       "        vertical-align: middle;\n",
       "    }\n",
       "\n",
       "    .dataframe tbody tr th {\n",
       "        vertical-align: top;\n",
       "    }\n",
       "\n",
       "    .dataframe thead th {\n",
       "        text-align: right;\n",
       "    }\n",
       "</style>\n",
       "<table border=\"1\" class=\"dataframe\">\n",
       "  <thead>\n",
       "    <tr style=\"text-align: right;\">\n",
       "      <th></th>\n",
       "      <th>Ticker</th>\n",
       "      <th>Stock Price</th>\n",
       "      <th>Market Capitalization</th>\n",
       "      <th>Number of Shares to Buy</th>\n",
       "    </tr>\n",
       "  </thead>\n",
       "  <tbody>\n",
       "    <tr>\n",
       "      <th>0</th>\n",
       "      <td>A</td>\n",
       "      <td>155.520</td>\n",
       "      <td>46977633889</td>\n",
       "      <td>128</td>\n",
       "    </tr>\n",
       "    <tr>\n",
       "      <th>1</th>\n",
       "      <td>AAL</td>\n",
       "      <td>13.840</td>\n",
       "      <td>9174153030</td>\n",
       "      <td>1442</td>\n",
       "    </tr>\n",
       "    <tr>\n",
       "      <th>2</th>\n",
       "      <td>AAP</td>\n",
       "      <td>154.510</td>\n",
       "      <td>8940921881</td>\n",
       "      <td>129</td>\n",
       "    </tr>\n",
       "    <tr>\n",
       "      <th>3</th>\n",
       "      <td>AAPL</td>\n",
       "      <td>150.824</td>\n",
       "      <td>2430946743873</td>\n",
       "      <td>132</td>\n",
       "    </tr>\n",
       "    <tr>\n",
       "      <th>4</th>\n",
       "      <td>ABBV</td>\n",
       "      <td>164.730</td>\n",
       "      <td>291336514725</td>\n",
       "      <td>121</td>\n",
       "    </tr>\n",
       "    <tr>\n",
       "      <th>...</th>\n",
       "      <td>...</td>\n",
       "      <td>...</td>\n",
       "      <td>...</td>\n",
       "      <td>...</td>\n",
       "    </tr>\n",
       "    <tr>\n",
       "      <th>496</th>\n",
       "      <td>YUM</td>\n",
       "      <td>129.990</td>\n",
       "      <td>37554238828</td>\n",
       "      <td>153</td>\n",
       "    </tr>\n",
       "    <tr>\n",
       "      <th>497</th>\n",
       "      <td>ZBH</td>\n",
       "      <td>125.382</td>\n",
       "      <td>26306019856</td>\n",
       "      <td>159</td>\n",
       "    </tr>\n",
       "    <tr>\n",
       "      <th>498</th>\n",
       "      <td>ZBRA</td>\n",
       "      <td>280.500</td>\n",
       "      <td>14442002248</td>\n",
       "      <td>71</td>\n",
       "    </tr>\n",
       "    <tr>\n",
       "      <th>499</th>\n",
       "      <td>ZION</td>\n",
       "      <td>53.150</td>\n",
       "      <td>7996810327</td>\n",
       "      <td>375</td>\n",
       "    </tr>\n",
       "    <tr>\n",
       "      <th>500</th>\n",
       "      <td>ZTS</td>\n",
       "      <td>160.270</td>\n",
       "      <td>75706910900</td>\n",
       "      <td>124</td>\n",
       "    </tr>\n",
       "  </tbody>\n",
       "</table>\n",
       "<p>501 rows × 4 columns</p>\n",
       "</div>"
      ],
      "text/plain": [
       "    Ticker  Stock Price Market Capitalization Number of Shares to Buy\n",
       "0        A      155.520           46977633889                     128\n",
       "1      AAL       13.840            9174153030                    1442\n",
       "2      AAP      154.510            8940921881                     129\n",
       "3     AAPL      150.824         2430946743873                     132\n",
       "4     ABBV      164.730          291336514725                     121\n",
       "..     ...          ...                   ...                     ...\n",
       "496    YUM      129.990           37554238828                     153\n",
       "497    ZBH      125.382           26306019856                     159\n",
       "498   ZBRA      280.500           14442002248                      71\n",
       "499   ZION       53.150            7996810327                     375\n",
       "500    ZTS      160.270           75706910900                     124\n",
       "\n",
       "[501 rows x 4 columns]"
      ]
     },
     "execution_count": 11,
     "metadata": {},
     "output_type": "execute_result"
    }
   ],
   "source": [
    "# Calculating the number of shares to buy for each stock based on stock price\n",
    "position_size = val / len(final_df.index)\n",
    "for i in range(len(final_df.index)):\n",
    "     final_df.loc[i, 'Number of Shares to Buy'] = math.floor(position_size / final_df.loc[i, 'Stock Price'])\n",
    "final_df"
   ]
  },
  {
   "cell_type": "code",
   "execution_count": 12,
   "id": "fd0901a1",
   "metadata": {},
   "outputs": [],
   "source": [
    "# Excel Writer Object is created\n",
    "writer = pd.ExcelWriter(\"Recommended Trades.xlsx\")\n",
    "final_df.to_excel(writer, \"Recommended Trades\", engine = \"openpyxl\")"
   ]
  },
  {
   "cell_type": "code",
   "execution_count": 13,
   "id": "e3a39feb",
   "metadata": {},
   "outputs": [],
   "source": [
    "# Formatting for each column\n",
    "\n",
    "bg_color = \"#0a0a23\"\n",
    "font_color = \"#ffffff\"\n",
    "\n",
    "string_format = writer.book.add_format(\n",
    "    {\n",
    "        'font_color' : font_color,\n",
    "        'bg_color' : bg_color,\n",
    "        'border' : 1\n",
    "    }\n",
    ")\n",
    "\n",
    "dollar_format = writer.book.add_format(\n",
    "    {\n",
    "        'font_color' : font_color,\n",
    "        'bg_color' : bg_color,\n",
    "        'border' : 1,\n",
    "        'num_format' : '$0.00' \n",
    "    }\n",
    ")\n",
    "\n",
    "integer_format = writer.book.add_format(\n",
    "    {\n",
    "        'font_color' : font_color,\n",
    "        'bg_color' : bg_color,\n",
    "        'border' : 1,\n",
    "        'num_format' : '0' \n",
    "        \n",
    "    }\n",
    ")"
   ]
  },
  {
   "cell_type": "code",
   "execution_count": 14,
   "id": "464849d1",
   "metadata": {},
   "outputs": [],
   "source": [
    "# Code to format each column values manually\n",
    "\n",
    "# writer.sheets[\"Recommended Trades\"].set_column('B:B', 18, string_format)\n",
    "# writer.sheets[\"Recommended Trades\"].set_column('C:C', 18, string_format)\n",
    "# writer.sheets[\"Recommended Trades\"].set_column('D:D', 18, string_format)\n",
    "# writer.sheets[\"Recommended Trades\"].set_column('E:E', 18, string_format)\n",
    "# writer.save()\n",
    "\n",
    "# Code to format each column headers manually\n",
    "\n",
    "# writer.sheets[\"Recommended Trades\"].write('B1', 'Ticker', string_format)\n",
    "# writer.sheets[\"Recommended Trades\"].write('C1', 'Stock Price', dollar_format)\n",
    "# writer.sheets[\"Recommended Trades\"].write('D1', 'Market Capitalization', dollar_format)\n",
    "# writer.sheets[\"Recommended Trades\"].write('E1', 'Number of Shares to Buy', integer_format)\n",
    "\n"
   ]
  },
  {
   "cell_type": "code",
   "execution_count": 15,
   "id": "5f7fbba6",
   "metadata": {},
   "outputs": [
    {
     "name": "stderr",
     "output_type": "stream",
     "text": [
      "C:\\Users\\deepa\\AppData\\Local\\Temp\\ipykernel_35016\\61595379.py:11: FutureWarning: save is not part of the public API, usage can give unexpected results and will be removed in a future version\n",
      "  writer.save()\n"
     ]
    }
   ],
   "source": [
    "# Simplifying the formatting using a dictionary and for loop\n",
    "columns_format = {\n",
    "    'B':['Ticker', string_format],\n",
    "    'C':['Stock Price', dollar_format],\n",
    "    'D':['Market Capitalization', dollar_format],\n",
    "    'E':['Number of Shares to Buy', integer_format]\n",
    "}\n",
    "for column in columns_format.keys():\n",
    "    writer.sheets[\"Recommended Trades\"].set_column(f'{column}:{column}', 18, columns_format[column][1])\n",
    "    writer.sheets[\"Recommended Trades\"].write(f'{column}1', columns_format[column][0], columns_format[column][1])\n",
    "\n",
    "# Saving the excel writer object    \n",
    "writer.save()\n",
    "    "
   ]
  }
 ],
 "metadata": {
  "kernelspec": {
   "display_name": "Python 3 (ipykernel)",
   "language": "python",
   "name": "python3"
  },
  "language_info": {
   "codemirror_mode": {
    "name": "ipython",
    "version": 3
   },
   "file_extension": ".py",
   "mimetype": "text/x-python",
   "name": "python",
   "nbconvert_exporter": "python",
   "pygments_lexer": "ipython3",
   "version": "3.10.2"
  }
 },
 "nbformat": 4,
 "nbformat_minor": 5
}
